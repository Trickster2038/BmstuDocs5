{
 "cells": [
  {
   "cell_type": "code",
   "execution_count": 1,
   "id": "678ada5b",
   "metadata": {},
   "outputs": [],
   "source": [
    "import pandas as pd"
   ]
  },
  {
   "cell_type": "code",
   "execution_count": 2,
   "id": "ed2b69ea",
   "metadata": {},
   "outputs": [],
   "source": [
    "names=[\"ip\", \"1\", \"2\", \"3\", \"4\", \"url\", \"status\", \"size\", \"5\", \"6\", \"7\"]\n",
    "df = pd.read_csv(\"access.log\", sep=\" \", usecols= range(11), low_memory=False, header=None, names=names)\n",
    "df = df.iloc[:,[0,5,6,7,8,9,10]]"
   ]
  },
  {
   "cell_type": "code",
   "execution_count": 3,
   "id": "e7a0a635",
   "metadata": {},
   "outputs": [],
   "source": [
    "def total_size(df):\n",
    "    return df.shape[0]"
   ]
  },
  {
   "cell_type": "code",
   "execution_count": 6,
   "id": "45d645e0",
   "metadata": {},
   "outputs": [],
   "source": [
    "def groupby_methods(df):\n",
    "    df_methods_1 = df.copy()\n",
    "    df_methods_1[\"method\"] = df_methods_1.apply (lambda row: row[\"url\"].split()[0], axis=1)\n",
    "    df_methods_2 = pd.DataFrame(df_methods_1[\"method\"])\n",
    "    df_methods_2[\"cnt\"] = 0\n",
    "    return df_methods_2.groupby(by=[\"method\"], as_index=False).count().reset_index(drop=True)\n",
    "def groupby_methods_normal(df):\n",
    "    df_meths = groupby_methods(df)\n",
    "    return df_meths.loc[(df_meths[\"method\"].astype('str').str.len() < 10)].reset_index(drop=True)\n",
    "def groupby_methods_unnormal(df):\n",
    "    df_meths = groupby_methods(df)\n",
    "    return df_meths.loc[(df_meths[\"method\"].astype('str').str.len() >= 10)].reset_index(drop=True)"
   ]
  },
  {
   "cell_type": "code",
   "execution_count": 13,
   "id": "3b7d2ec6",
   "metadata": {},
   "outputs": [],
   "source": [
    "def top10_urls(df):\n",
    "    df_urls = pd.DataFrame(df.iloc[:,1])\n",
    "    df_urls[\"cnt\"] = 0\n",
    "    df_urls2 = df_urls.copy()\n",
    "    df_urls2[\"url_without_params\"] = df_urls.apply (lambda row: row[\"url\"].split()[1], axis=1)\n",
    "    del df_urls2[\"url\"]\n",
    "    df_urls_g = df_urls2.groupby(by=[\"url_without_params\"], as_index=False).count()\n",
    "    return df_urls_g.sort_values(\"cnt\", ascending=False).head(10).reset_index(drop=True)"
   ]
  },
  {
   "cell_type": "code",
   "execution_count": 17,
   "id": "a33fe1ce",
   "metadata": {},
   "outputs": [],
   "source": [
    "def top5_size_4xx(df):\n",
    "    df_filtered = df.query(\"status >= 400 and status < 500\").iloc[:,0:4]\n",
    "    return df_filtered.sort_values(\"size\", ascending=False).head(5).reset_index(drop=True)"
   ]
  },
  {
   "cell_type": "code",
   "execution_count": 19,
   "id": "808dfc23",
   "metadata": {},
   "outputs": [],
   "source": [
    "def top5_users_5xx(df):\n",
    "    df_5xx = df.query(\"status >= 500 and status < 600\").iloc[:,[0]]\n",
    "    df_5xx[\"cnt\"] = 0\n",
    "    return df_5xx.groupby(by=[\"ip\"], as_index=False).count().sort_values(\"cnt\", ascending=False).head(5).reset_index(drop=True)"
   ]
  },
  {
   "cell_type": "code",
   "execution_count": 20,
   "id": "f241467f",
   "metadata": {},
   "outputs": [
    {
     "data": {
      "text/html": [
       "<div>\n",
       "<style scoped>\n",
       "    .dataframe tbody tr th:only-of-type {\n",
       "        vertical-align: middle;\n",
       "    }\n",
       "\n",
       "    .dataframe tbody tr th {\n",
       "        vertical-align: top;\n",
       "    }\n",
       "\n",
       "    .dataframe thead th {\n",
       "        text-align: right;\n",
       "    }\n",
       "</style>\n",
       "<table border=\"1\" class=\"dataframe\">\n",
       "  <thead>\n",
       "    <tr style=\"text-align: right;\">\n",
       "      <th></th>\n",
       "      <th>ip</th>\n",
       "      <th>cnt</th>\n",
       "    </tr>\n",
       "  </thead>\n",
       "  <tbody>\n",
       "    <tr>\n",
       "      <th>0</th>\n",
       "      <td>189.217.45.73</td>\n",
       "      <td>225</td>\n",
       "    </tr>\n",
       "    <tr>\n",
       "      <th>1</th>\n",
       "      <td>82.193.127.15</td>\n",
       "      <td>4</td>\n",
       "    </tr>\n",
       "    <tr>\n",
       "      <th>2</th>\n",
       "      <td>91.210.145.36</td>\n",
       "      <td>3</td>\n",
       "    </tr>\n",
       "    <tr>\n",
       "      <th>3</th>\n",
       "      <td>198.38.94.207</td>\n",
       "      <td>2</td>\n",
       "    </tr>\n",
       "    <tr>\n",
       "      <th>4</th>\n",
       "      <td>194.87.237.6</td>\n",
       "      <td>2</td>\n",
       "    </tr>\n",
       "  </tbody>\n",
       "</table>\n",
       "</div>"
      ],
      "text/plain": [
       "              ip  cnt\n",
       "0  189.217.45.73  225\n",
       "1  82.193.127.15    4\n",
       "2  91.210.145.36    3\n",
       "3  198.38.94.207    2\n",
       "4   194.87.237.6    2"
      ]
     },
     "execution_count": 20,
     "metadata": {},
     "output_type": "execute_result"
    }
   ],
   "source": [
    "top5_users_5xx(df)"
   ]
  },
  {
   "cell_type": "code",
   "execution_count": null,
   "id": "f69174c0",
   "metadata": {},
   "outputs": [],
   "source": []
  }
 ],
 "metadata": {
  "kernelspec": {
   "display_name": "Python 3 (ipykernel)",
   "language": "python",
   "name": "python3"
  },
  "language_info": {
   "codemirror_mode": {
    "name": "ipython",
    "version": 3
   },
   "file_extension": ".py",
   "mimetype": "text/x-python",
   "name": "python",
   "nbconvert_exporter": "python",
   "pygments_lexer": "ipython3",
   "version": "3.8.10"
  }
 },
 "nbformat": 4,
 "nbformat_minor": 5
}
