{
 "cells": [
  {
   "cell_type": "code",
   "execution_count": null,
   "id": "34614b7c",
   "metadata": {},
   "outputs": [],
   "source": [
    "import telnetlib\n",
    "import time\n",
    "host = '192.168.56.101'\n",
    "password = 'Huawei@123'\n",
    "tn = telnetlib.Telnet(host)\n",
    "tn.read_until(b\"Password:\")\n",
    "tn.write(password.encode('ascii') + b\"\\n\")\n",
    "tn.write(b'display cu \\n')\n",
    "time.sleep(1)\n",
    "print(tn.read_very_eager().decode('ascii'))\n",
    "tn.close()"
   ]
  }
 ],
 "metadata": {
  "kernelspec": {
   "display_name": "Python 3 (ipykernel)",
   "language": "python",
   "name": "python3"
  },
  "language_info": {
   "codemirror_mode": {
    "name": "ipython",
    "version": 3
   },
   "file_extension": ".py",
   "mimetype": "text/x-python",
   "name": "python",
   "nbconvert_exporter": "python",
   "pygments_lexer": "ipython3",
   "version": "3.10.0"
  }
 },
 "nbformat": 4,
 "nbformat_minor": 5
}
