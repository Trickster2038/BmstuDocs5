{
 "cells": [
  {
   "cell_type": "code",
   "execution_count": 1,
   "id": "45223210",
   "metadata": {},
   "outputs": [
    {
     "name": "stdout",
     "output_type": "stream",
     "text": [
      "\r\n",
      "Info: The max number of VTY users is 5, and the number\r\n",
      "      of current VTY users on line is 1.\r\n",
      "      The current login time is 2021-11-04 17:24:39.\r\n",
      "<Astakhov-S1>display cu \r\n",
      "#\r\n",
      "sysname Astakhov-S1\r\n",
      "#\r\n",
      "vlan batch 3\r\n",
      "#\r\n",
      "cluster enable\r\n",
      "ntdp enable\r\n",
      "ndp enable\r\n",
      "#\r\n",
      "drop illegal-mac alarm\r\n",
      "#\r\n",
      "diffserv domain default\r\n",
      "#\r\n",
      "drop-profile default\r\n",
      "#\r\n",
      "aaa\r\n",
      " authentication-scheme default\r\n",
      " authorization-scheme default\r\n",
      " accounting-scheme default\r\n",
      " domain default\r\n",
      " domain default_admin\r\n",
      " local-user admin password simple admin\r\n",
      " local-user admin service-type http\r\n",
      "#\r\n",
      "  ---- More ----\n"
     ]
    }
   ],
   "source": [
    "import telnetlib\n",
    "import time\n",
    "host = '192.168.56.101'\n",
    "password = 'Huawei@123'\n",
    "tn = telnetlib.Telnet(host)\n",
    "tn.read_until(b\"Password:\")\n",
    "tn.write(password.encode('ascii') + b\"\\n\")\n",
    "tn.write(b'display cu \\n')\n",
    "time.sleep(1)\n",
    "print(tn.read_very_eager().decode('ascii'))\n",
    "tn.close()"
   ]
  },
  {
   "cell_type": "code",
   "execution_count": null,
   "id": "3bb8be52",
   "metadata": {},
   "outputs": [],
   "source": []
  }
 ],
 "metadata": {
  "kernelspec": {
   "display_name": "Python 3 (ipykernel)",
   "language": "python",
   "name": "python3"
  },
  "language_info": {
   "codemirror_mode": {
    "name": "ipython",
    "version": 3
   },
   "file_extension": ".py",
   "mimetype": "text/x-python",
   "name": "python",
   "nbconvert_exporter": "python",
   "pygments_lexer": "ipython3",
   "version": "3.10.0"
  }
 },
 "nbformat": 4,
 "nbformat_minor": 5
}
